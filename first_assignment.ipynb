{
 "cells": [
  {
   "cell_type": "code",
   "execution_count": 1,
   "id": "de9b4e9e-a65e-4510-ad8f-b3fdb829d0d7",
   "metadata": {},
   "outputs": [],
   "source": [
    "#Ques2: Describe the role of predefined keywords in Python and provide examples of how \n",
    "#they are used in a program?"
   ]
  },
  {
   "cell_type": "code",
   "execution_count": 5,
   "id": "259344a8-5c10-4ee0-a7bc-f17eeafa67ef",
   "metadata": {},
   "outputs": [
    {
     "name": "stdout",
     "output_type": "stream",
     "text": [
      "The number is greater than 0\n"
     ]
    }
   ],
   "source": [
    "a=100\n",
    "if a>0:\n",
    "    print(\"The number is greater than 0\")"
   ]
  },
  {
   "cell_type": "code",
   "execution_count": 6,
   "id": "74a57719-0fb3-483a-b6af-c874b9aafe45",
   "metadata": {},
   "outputs": [
    {
     "name": "stdout",
     "output_type": "stream",
     "text": [
      "You are pass\n"
     ]
    }
   ],
   "source": [
    "score = 80\n",
    "if score >50:\n",
    "    print(\"You are pass\")"
   ]
  },
  {
   "cell_type": "code",
   "execution_count": 7,
   "id": "87569cbf-29ab-4af1-8127-c1c8a8ac66ba",
   "metadata": {},
   "outputs": [
    {
     "name": "stdout",
     "output_type": "stream",
     "text": [
      "You are pass\n"
     ]
    }
   ],
   "source": [
    "score = 80\n",
    "if score >50:\n",
    "    print(\"You are pass\") # executes only if condition is true\n",
    "else:\n",
    "    print(\"You are fail\") # if the condition is not true this block will be exceuted"
   ]
  },
  {
   "cell_type": "code",
   "execution_count": 8,
   "id": "81af2d68-7ae4-4db2-8e41-bf99bcfd9490",
   "metadata": {},
   "outputs": [
    {
     "name": "stdout",
     "output_type": "stream",
     "text": [
      "You are eligible to vote\n"
     ]
    }
   ],
   "source": [
    "age = 18\n",
    "if age <=18:\n",
    "    print(\"You are eligible to vote\") #executes only if condition is true\n",
    "else:\n",
    "    print(\"You are not eligible to vote\") # executes if condition is not true"
   ]
  },
  {
   "cell_type": "code",
   "execution_count": 9,
   "id": "6cd3065e-a29f-45f0-b605-eb1cf0dcf267",
   "metadata": {},
   "outputs": [
    {
     "name": "stdout",
     "output_type": "stream",
     "text": [
      "You are passed with A grade\n"
     ]
    }
   ],
   "source": [
    "score =94\n",
    "if score>90:\n",
    "    print(\"You are passed with A grade\")\n",
    "elif (80<=score>70):\n",
    "    print(\"You are passed with B grade\")\n",
    "elif (60<=score>50):\n",
    "    print(\"You are passed with C grade\")\n",
    "else:\n",
    "    print(\"You are fail\")"
   ]
  },
  {
   "cell_type": "code",
   "execution_count": 10,
   "id": "193ddf2a-0519-4ca0-94c5-0486754d0c78",
   "metadata": {},
   "outputs": [
    {
     "name": "stdout",
     "output_type": "stream",
     "text": [
      "Both x and y greater than 5\n"
     ]
    }
   ],
   "source": [
    "# nested if else >> you can have multiple if else inside if else\n",
    "x = 7\n",
    "y = 6\n",
    "if x>5:\n",
    "    if y>5:\n",
    "        print (\"Both x and y greater than 5\")\n",
    "    else:\n",
    "        print (\"The number is greater than y but smaller than 5\")\n",
    "else:\n",
    "    print (\"x is not greater than 5\")"
   ]
  },
  {
   "cell_type": "code",
   "execution_count": 11,
   "id": "692f9843-512e-44dc-8811-2b8206535604",
   "metadata": {},
   "outputs": [
    {
     "name": "stdout",
     "output_type": "stream",
     "text": [
      "You are not a vip customer and will be charged a regular price\n"
     ]
    }
   ],
   "source": [
    "# it is a nested if else statement, that means if else inside if else\n",
    "is_vip = False\n",
    "age = 15\n",
    "if is_vip:\n",
    "    if age >=18:\n",
    "        if age < 65:\n",
    "            print(\"welcome to vip customer\")\n",
    "        else: \n",
    "            print(\"You are vip and very imp. YOu are eligible for senior citizen discount\")\n",
    "    else:\n",
    "        print(\"Vip staus is only for adult\")\n",
    "else:\n",
    "    print(\"You are not a vip customer and will be charged a regular price\")"
   ]
  },
  {
   "cell_type": "code",
   "execution_count": 12,
   "id": "a9bfc112-cad0-4dbd-bd0a-392448e5729e",
   "metadata": {},
   "outputs": [
    {
     "name": "stdout",
     "output_type": "stream",
     "text": [
      "0\n",
      "1\n",
      "2\n",
      "3\n",
      "4\n",
      "5\n",
      "6\n",
      "7\n",
      "8\n",
      "9\n"
     ]
    }
   ],
   "source": [
    "# for loop\n",
    "for i in range (10):\n",
    "    print(i)"
   ]
  },
  {
   "cell_type": "code",
   "execution_count": 13,
   "id": "201f6888-7c4b-470c-89d1-77d0459ad907",
   "metadata": {},
   "outputs": [
    {
     "name": "stdout",
     "output_type": "stream",
     "text": [
      "2\n",
      "3\n"
     ]
    }
   ],
   "source": [
    "# for loop with break\n",
    "name = [2, 3, \"Ananyaa\", \"Pooja\"]\n",
    "for i in name:\n",
    "    if i == \"Ananyaa\":\n",
    "        break\n",
    "    print(i) \n",
    "# break terminates/exits the loop"
   ]
  },
  {
   "cell_type": "code",
   "execution_count": 14,
   "id": "39d0ee25-4dfd-40a4-b3e7-6c22cd1b6c45",
   "metadata": {},
   "outputs": [
    {
     "name": "stdout",
     "output_type": "stream",
     "text": [
      "2\n",
      "3\n",
      "Pooja\n"
     ]
    }
   ],
   "source": [
    "# for loop with continue\n",
    "for i in name:\n",
    "    if i == \"Ananyaa\":\n",
    "        continue\n",
    "    print (i)\n",
    "# The condition is met it will break loop"
   ]
  },
  {
   "cell_type": "code",
   "execution_count": 15,
   "id": "35dbe0f1-d282-4ec8-ba4e-5df4b5ef3e43",
   "metadata": {},
   "outputs": [
    {
     "name": "stdout",
     "output_type": "stream",
     "text": [
      "1\n",
      "2\n",
      "3\n",
      "4\n",
      "5\n",
      "6\n",
      "This will be executed when the while is run successfuly without any break\n"
     ]
    }
   ],
   "source": [
    "n = 7\n",
    "i = 1\n",
    "while i < n:\n",
    "    print(i)\n",
    "    i = i+1\n",
    "else:\n",
    "    print(\"This will be executed when the while is run successfuly without any break\")"
   ]
  },
  {
   "cell_type": "code",
   "execution_count": 16,
   "id": "fbcb39d2-b458-435a-bd1e-b676980743b6",
   "metadata": {},
   "outputs": [
    {
     "name": "stdout",
     "output_type": "stream",
     "text": [
      "1\n",
      "2\n"
     ]
    }
   ],
   "source": [
    "n = 7\n",
    "i = 1\n",
    "while i < n:\n",
    "    print(i)\n",
    "    i = i+1\n",
    "    if i == 3:\n",
    "        break\n",
    "else:\n",
    "    print(\"This will be executed when the while is run successfuly without any break\")"
   ]
  },
  {
   "cell_type": "code",
   "execution_count": 17,
   "id": "b6071b31-2fd8-431f-8609-5407b38bde7a",
   "metadata": {},
   "outputs": [
    {
     "name": "stdout",
     "output_type": "stream",
     "text": [
      "1\n",
      "2\n",
      "3\n",
      "4\n",
      "5\n",
      "6\n",
      "This will be executed when the while is run successfuly without any break\n"
     ]
    }
   ],
   "source": [
    "n = 7\n",
    "i = 1\n",
    "while i < n:\n",
    "    print(i)\n",
    "    i = i+1\n",
    "    if i == 3:\n",
    "        continue\n",
    "else:\n",
    "    print(\"This will be executed when the while is run successfuly without any break\")"
   ]
  },
  {
   "cell_type": "code",
   "execution_count": null,
   "id": "14306efd-5f02-41f9-a785-47db9fa5b6fc",
   "metadata": {},
   "outputs": [],
   "source": [
    "# Ques 3: Compare and contrast mutable and immutable objects in Python with example?"
   ]
  },
  {
   "cell_type": "code",
   "execution_count": 18,
   "id": "1b4b75d3-edad-4e66-8198-87f7d9edce75",
   "metadata": {},
   "outputs": [
    {
     "name": "stdout",
     "output_type": "stream",
     "text": [
      "[2, 3.4, 'Mango', 'Orange', 'Banana']\n",
      "Orange\n",
      "[2, 3.4, 'Mango', 'Kiwi', 'Banana']\n"
     ]
    }
   ],
   "source": [
    "# mutable objects means which can be changed \n",
    "# list, dictionary and sets and mutable objects\n",
    "my_list = [2, 3.4, \"Mango\", \"Orange\", \"Banana\"]\n",
    "print(my_list)\n",
    "print (my_list[3])\n",
    "my_list[3] = \"Kiwi\"\n",
    "print (my_list)\n",
    "# in this list orange is changed with kiwi so that list is mutable"
   ]
  },
  {
   "cell_type": "code",
   "execution_count": 19,
   "id": "6189ed75-d4d6-4ee2-9d3e-4e7ccddb122c",
   "metadata": {},
   "outputs": [
    {
     "name": "stdout",
     "output_type": "stream",
     "text": [
      "(2, 3, 'Brinjal', 'Tomato', 'Potato', 'Capcicum')\n",
      "Tomato\n"
     ]
    },
    {
     "ename": "TypeError",
     "evalue": "'tuple' object does not support item assignment",
     "output_type": "error",
     "traceback": [
      "\u001b[0;31m---------------------------------------------------------------------------\u001b[0m",
      "\u001b[0;31mTypeError\u001b[0m                                 Traceback (most recent call last)",
      "Cell \u001b[0;32mIn[19], line 6\u001b[0m\n\u001b[1;32m      4\u001b[0m \u001b[38;5;28mprint\u001b[39m(my_tuple)\n\u001b[1;32m      5\u001b[0m \u001b[38;5;28mprint\u001b[39m (my_tuple[\u001b[38;5;241m3\u001b[39m])\n\u001b[0;32m----> 6\u001b[0m \u001b[43mmy_tuple\u001b[49m\u001b[43m[\u001b[49m\u001b[38;5;241;43m3\u001b[39;49m\u001b[43m]\u001b[49m \u001b[38;5;241m=\u001b[39m \u001b[38;5;124m\"\u001b[39m\u001b[38;5;124mOnion\u001b[39m\u001b[38;5;124m\"\u001b[39m\n\u001b[1;32m      7\u001b[0m \u001b[38;5;28mprint\u001b[39m (my_tuple)\n\u001b[1;32m      8\u001b[0m \u001b[38;5;66;03m# item assignment is not poosible in tupple that means tuple is immutable\u001b[39;00m\n",
      "\u001b[0;31mTypeError\u001b[0m: 'tuple' object does not support item assignment"
     ]
    }
   ],
   "source": [
    "# immutable objects are those which cannot be changes\n",
    "# integer, float, tuple, String\n",
    "my_tuple = (2, 3, \"Brinjal\", \"Tomato\", \"Potato\", \"Capcicum\")\n",
    "print(my_tuple)\n",
    "print (my_tuple[3])\n",
    "my_tuple[3] = \"Onion\"\n",
    "print (my_tuple)\n",
    "# item assignment is not poosible in tupple that means tuple is immutable"
   ]
  },
  {
   "cell_type": "code",
   "execution_count": 17,
   "id": "9c9957e2-ec1d-4017-94fd-588b157b3ec5",
   "metadata": {},
   "outputs": [],
   "source": [
    "# Oues 4:Discuss the different types of operators in Python and provide examples of how they are used? "
   ]
  },
  {
   "cell_type": "code",
   "execution_count": 20,
   "id": "d558aad4-2cce-4ec1-a758-0d5cd8383811",
   "metadata": {},
   "outputs": [
    {
     "name": "stdout",
     "output_type": "stream",
     "text": [
      "12\n",
      "2\n",
      "35\n",
      "1.4\n",
      "1\n",
      "2\n",
      "16807\n"
     ]
    }
   ],
   "source": [
    "# Arithematic Operator\n",
    "a = 7\n",
    "b = 5\n",
    "print (a+b)\n",
    "print (a-b)\n",
    "print (a*b)\n",
    "print (a/b)\n",
    "print (a//b)\n",
    "print (a%b)\n",
    "print (a**b)"
   ]
  },
  {
   "cell_type": "code",
   "execution_count": 21,
   "id": "d37a7430-7951-4502-b3e0-1510733d4eaa",
   "metadata": {},
   "outputs": [
    {
     "name": "stdout",
     "output_type": "stream",
     "text": [
      "False\n",
      "True\n",
      "True\n",
      "False\n",
      "True\n",
      "False\n"
     ]
    }
   ],
   "source": [
    "# Comparision Operator\n",
    "a = 8\n",
    "b = 5\n",
    "print (a==b)\n",
    "print (a!=b)\n",
    "print (a>b)\n",
    "print (a<b)\n",
    "print (a>=b)\n",
    "print (a<=b)"
   ]
  },
  {
   "cell_type": "code",
   "execution_count": 22,
   "id": "77e6d00d-2add-414f-9496-614d4626cafd",
   "metadata": {},
   "outputs": [
    {
     "name": "stdout",
     "output_type": "stream",
     "text": [
      "15\n",
      "12\n",
      "36\n",
      "12.0\n",
      "4.0\n",
      "1.0\n",
      "1.0\n"
     ]
    }
   ],
   "source": [
    "# Assignment Operator \n",
    "x =10  # assigning a value to x\n",
    "x += 5  \n",
    "print(x) \n",
    "x -= 3  \n",
    "print(x)\n",
    "x*=3\n",
    "print(x)\n",
    "x/=3\n",
    "print(x)\n",
    "x//=3\n",
    "print(x)\n",
    "x%=3\n",
    "print(x)\n",
    "x**=3\n",
    "print(x)"
   ]
  },
  {
   "cell_type": "code",
   "execution_count": 23,
   "id": "1cc47f17-fef8-4ecf-83e7-7b151f16ed97",
   "metadata": {},
   "outputs": [
    {
     "name": "stdout",
     "output_type": "stream",
     "text": [
      "False\n",
      "True\n",
      "False\n"
     ]
    }
   ],
   "source": [
    "# Logical Operator\n",
    "a = True\n",
    "b = False\n",
    "\n",
    "# AND operation\n",
    "print(a and b)\n",
    "\n",
    "# OR operation\n",
    "print(a or b) \n",
    "\n",
    "# NOT operation\n",
    "print(not a) "
   ]
  },
  {
   "cell_type": "code",
   "execution_count": 24,
   "id": "6738b0ba-16e9-41ef-a4b3-1030e610e784",
   "metadata": {},
   "outputs": [
    {
     "name": "stdout",
     "output_type": "stream",
     "text": [
      "1\n",
      "10\n",
      "2\n"
     ]
    }
   ],
   "source": [
    "# Bitwise Operator\n",
    "a = 5 \n",
    "b = 3\n",
    "print(a & b)  \n",
    "print(a << 1)  \n",
    "print(a >> 1)"
   ]
  },
  {
   "cell_type": "code",
   "execution_count": 25,
   "id": "985fbcbe-e337-4142-8668-d2fb4f6369bb",
   "metadata": {},
   "outputs": [
    {
     "name": "stdout",
     "output_type": "stream",
     "text": [
      "True\n",
      "True\n"
     ]
    }
   ],
   "source": [
    "# Membership Operator\n",
    "my_list = [1, 2, 3, 4]\n",
    "print(2 in my_list)  \n",
    "print(5 not in my_list) "
   ]
  },
  {
   "cell_type": "code",
   "execution_count": 24,
   "id": "7ec0fa72-f58e-4424-be3a-0c69ae18466f",
   "metadata": {},
   "outputs": [],
   "source": [
    "#Ques5: Explain the concept of typecasting in Python with examples?"
   ]
  },
  {
   "cell_type": "code",
   "execution_count": 26,
   "id": "1b517bd0-c622-41ea-8288-a65bb86ca2f7",
   "metadata": {},
   "outputs": [
    {
     "data": {
      "text/plain": [
       "int"
      ]
     },
     "execution_count": 26,
     "metadata": {},
     "output_type": "execute_result"
    }
   ],
   "source": [
    "a = 5\n",
    "type(a)"
   ]
  },
  {
   "cell_type": "code",
   "execution_count": 27,
   "id": "d5a9c50d-5ba0-4189-8600-1d76439595c6",
   "metadata": {},
   "outputs": [
    {
     "data": {
      "text/plain": [
       "float"
      ]
     },
     "execution_count": 27,
     "metadata": {},
     "output_type": "execute_result"
    }
   ],
   "source": [
    "a = 3.3\n",
    "type (a)"
   ]
  },
  {
   "cell_type": "code",
   "execution_count": 28,
   "id": "81678222-8815-406b-a26e-80949fdd10ed",
   "metadata": {},
   "outputs": [
    {
     "data": {
      "text/plain": [
       "str"
      ]
     },
     "execution_count": 28,
     "metadata": {},
     "output_type": "execute_result"
    }
   ],
   "source": [
    "a = \"Ananyaa\"\n",
    "type (a)"
   ]
  },
  {
   "cell_type": "code",
   "execution_count": 29,
   "id": "ef5428ef-5ade-423a-ad7a-b93b2000c887",
   "metadata": {},
   "outputs": [
    {
     "name": "stdout",
     "output_type": "stream",
     "text": [
      "100\n",
      "<class 'str'>\n",
      "100\n",
      "<class 'int'>\n"
     ]
    }
   ],
   "source": [
    "#Converting String to Integer\n",
    "a = \"100\"\n",
    "print (a)\n",
    "print(type(a))\n",
    "b = int(a)\n",
    "print (b)\n",
    "print(type (b))"
   ]
  },
  {
   "cell_type": "code",
   "execution_count": 29,
   "id": "949dcb25-e0cc-4016-8c21-f0c87c8b94a9",
   "metadata": {},
   "outputs": [
    {
     "name": "stdout",
     "output_type": "stream",
     "text": [
      "3.3\n",
      "<class 'float'>\n",
      "3\n",
      "<class 'int'>\n"
     ]
    }
   ],
   "source": [
    "#Converting Float to Integer\n",
    "a = 3.3\n",
    "print (a)\n",
    "print(type(a))\n",
    "b = int(a)\n",
    "print (b)\n",
    "print(type (b))"
   ]
  },
  {
   "cell_type": "code",
   "execution_count": 30,
   "id": "4a1d2c7c-f8c2-4e5e-8c4e-46cc49dce5e4",
   "metadata": {},
   "outputs": [
    {
     "name": "stdout",
     "output_type": "stream",
     "text": [
      "3\n",
      "<class 'int'>\n",
      "3\n",
      "<class 'str'>\n"
     ]
    }
   ],
   "source": [
    "# Converting Integer to String\n",
    "a = 3\n",
    "print (a)\n",
    "print(type(a))\n",
    "b = str(a)\n",
    "print (b)\n",
    "print(type (b))"
   ]
  },
  {
   "cell_type": "code",
   "execution_count": 31,
   "id": "f5621e88-6096-4bfb-8b3e-9072fcebce2a",
   "metadata": {},
   "outputs": [
    {
     "name": "stdout",
     "output_type": "stream",
     "text": [
      "[1, 2, 3]\n",
      "<class 'list'>\n",
      "(1, 2, 3)\n",
      "<class 'tuple'>\n"
     ]
    }
   ],
   "source": [
    "# Converting List to Tuple\n",
    "a = [1, 2, 3]\n",
    "print (a)\n",
    "print(type(a))\n",
    "b = tuple(a)\n",
    "print (b)\n",
    "print(type (b))"
   ]
  },
  {
   "cell_type": "code",
   "execution_count": 32,
   "id": "c57b7e39-a49d-4a0f-a9d3-5baf17b1e3f7",
   "metadata": {},
   "outputs": [],
   "source": [
    "#Ques 6: How do conditional statements work in Python. Illustrate with an example?"
   ]
  },
  {
   "cell_type": "code",
   "execution_count": 32,
   "id": "84dc7897-d964-4d63-949b-67111ce720c2",
   "metadata": {},
   "outputs": [
    {
     "name": "stdout",
     "output_type": "stream",
     "text": [
      "The number is greater than 0\n"
     ]
    }
   ],
   "source": [
    "#if-statement\n",
    "a=100\n",
    "if a>20:\n",
    "    print(\"The number is greater than 0\")"
   ]
  },
  {
   "cell_type": "code",
   "execution_count": 33,
   "id": "aadb3f21-4afb-4581-99e9-751d4e1e4c20",
   "metadata": {},
   "outputs": [
    {
     "name": "stdout",
     "output_type": "stream",
     "text": [
      "You are eligible to vote\n"
     ]
    }
   ],
   "source": [
    "# if-else Statement\n",
    "age = 18\n",
    "if age <=18:\n",
    "    print(\"You are eligible to vote\") #executes only if condition is true\n",
    "else:\n",
    "    print(\"You are not eligible to vote\") # executes if condition is not true"
   ]
  },
  {
   "cell_type": "code",
   "execution_count": 34,
   "id": "f20082e0-ac76-4846-a27e-c4949c018657",
   "metadata": {},
   "outputs": [
    {
     "name": "stdout",
     "output_type": "stream",
     "text": [
      "You are passed with A grade\n"
     ]
    }
   ],
   "source": [
    "# if-elif-else Statement\n",
    "score =94\n",
    "if score>90:\n",
    "    print(\"You are passed with A grade\")\n",
    "elif (80<=score>70):\n",
    "    print(\"You are passed with B grade\")\n",
    "elif (60<=score>50):\n",
    "    print(\"You are passed with C grade\")\n",
    "else:\n",
    "    print(\"You are fail\")"
   ]
  },
  {
   "cell_type": "code",
   "execution_count": 35,
   "id": "18020d57-556d-4bf8-b5c6-98f5432c77f7",
   "metadata": {},
   "outputs": [
    {
     "name": "stdout",
     "output_type": "stream",
     "text": [
      "Both x and y greater thann 5\n"
     ]
    }
   ],
   "source": [
    "# Nested if statement\n",
    "x = 7\n",
    "y = 6\n",
    "if x>5:\n",
    "    if y>5:\n",
    "        print (\"Both x and y greater thann 5\")\n",
    "    else:\n",
    "        print (\"The number is greater than y but smaller than 5\")\n",
    "else:\n",
    "    print (\"x is not greater than 5\")"
   ]
  },
  {
   "cell_type": "code",
   "execution_count": 37,
   "id": "82f49bbb-21d8-4e79-800e-17a28bba5ffb",
   "metadata": {},
   "outputs": [],
   "source": [
    "#Ques 7: Describe the different types of loops in Python and their use cases with examples?"
   ]
  },
  {
   "cell_type": "code",
   "execution_count": 36,
   "id": "e154d6cc-a231-484c-9d90-91a4e3ff5089",
   "metadata": {},
   "outputs": [
    {
     "name": "stdout",
     "output_type": "stream",
     "text": [
      "1\n",
      "2\n",
      "3\n",
      "4\n",
      "5\n",
      "6\n",
      "This will be executed when the while is run successfuly without any break\n"
     ]
    }
   ],
   "source": [
    "n = 7\n",
    "i = 1\n",
    "while i < n:\n",
    "    print(i)\n",
    "    i = i+1\n",
    "else:\n",
    "    print(\"This will be executed when the while is run successfuly without any break\")"
   ]
  },
  {
   "cell_type": "code",
   "execution_count": 37,
   "id": "a0e0eee7-4499-467a-ba17-14c5865ee49a",
   "metadata": {},
   "outputs": [
    {
     "name": "stdout",
     "output_type": "stream",
     "text": [
      "1\n",
      "2\n"
     ]
    }
   ],
   "source": [
    "n = 7\n",
    "i = 1\n",
    "while i < n:\n",
    "    print(i)\n",
    "    i = i+1\n",
    "    if i == 3:\n",
    "        break\n",
    "else:\n",
    "    print(\"This will be executed when the while is run successfuly without any break\")"
   ]
  },
  {
   "cell_type": "code",
   "execution_count": 38,
   "id": "3dec1f56-5c2b-48a4-86c4-582316023bbf",
   "metadata": {},
   "outputs": [
    {
     "name": "stdout",
     "output_type": "stream",
     "text": [
      "1\n",
      "2\n",
      "3\n",
      "4\n",
      "5\n",
      "6\n",
      "This will be executed when the while is run successfuly without any break\n"
     ]
    }
   ],
   "source": [
    "n = 7\n",
    "i = 1\n",
    "while i < n:\n",
    "    print(i)\n",
    "    i = i+1\n",
    "    if i == 3:\n",
    "        continue\n",
    "else:\n",
    "    print(\"This will be executed when the while is run successfuly without any break\")"
   ]
  },
  {
   "cell_type": "code",
   "execution_count": 39,
   "id": "48cc4cdc-e2ee-46f0-98f5-de14a693eba3",
   "metadata": {},
   "outputs": [
    {
     "name": "stdout",
     "output_type": "stream",
     "text": [
      "0\n",
      "1\n",
      "2\n",
      "3\n",
      "4\n",
      "5\n",
      "6\n",
      "7\n",
      "8\n",
      "9\n"
     ]
    }
   ],
   "source": [
    "# for loop\n",
    "for i in range (10):\n",
    "    print(i)"
   ]
  },
  {
   "cell_type": "code",
   "execution_count": 40,
   "id": "25a8630b-bc38-4278-9a9c-4cf9bbbebdb6",
   "metadata": {},
   "outputs": [
    {
     "name": "stdout",
     "output_type": "stream",
     "text": [
      "2\n",
      "3\n"
     ]
    }
   ],
   "source": [
    "# for loop with break\n",
    "name = [2, 3, \"Ananyaa\", \"Pooja\"]\n",
    "for i in name:\n",
    "    if i == \"Ananyaa\":\n",
    "        break\n",
    "    print(i) "
   ]
  },
  {
   "cell_type": "code",
   "execution_count": 41,
   "id": "13a8c1fc-9dfe-40bb-afd7-c54eb062e679",
   "metadata": {},
   "outputs": [
    {
     "name": "stdout",
     "output_type": "stream",
     "text": [
      "2\n",
      "3\n",
      "Pooja\n"
     ]
    }
   ],
   "source": [
    "# for loop with continue\n",
    "for i in name:\n",
    "    if i == \"Ananyaa\":\n",
    "        continue\n",
    "    print (i)"
   ]
  },
  {
   "cell_type": "code",
   "execution_count": null,
   "id": "b005188c-9131-4d15-8b44-bf985be0e0ef",
   "metadata": {},
   "outputs": [],
   "source": []
  }
 ],
 "metadata": {
  "kernelspec": {
   "display_name": "Python 3 (ipykernel)",
   "language": "python",
   "name": "python3"
  },
  "language_info": {
   "codemirror_mode": {
    "name": "ipython",
    "version": 3
   },
   "file_extension": ".py",
   "mimetype": "text/x-python",
   "name": "python",
   "nbconvert_exporter": "python",
   "pygments_lexer": "ipython3",
   "version": "3.10.8"
  }
 },
 "nbformat": 4,
 "nbformat_minor": 5
}
